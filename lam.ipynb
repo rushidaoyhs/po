{
 "cells": [
  {
   "cell_type": "code",
   "execution_count": 1,
   "metadata": {
    "collapsed": true
   },
   "outputs": [],
   "source": [
    "import numpy as np\n",
    "import numpy.linalg as lin\n",
    "import pickle as pickle\n",
    "import matplotlib.pyplot as plt\n",
    "file_header = 'samples_episodes/samples_random_policy_small.pickle'\n",
    "with open(file_header+'1', 'rb') as handle:\n",
    "    samples = pickle.load(handle)\n"
   ]
  },
  {
   "cell_type": "code",
   "execution_count": 8,
   "metadata": {
    "collapsed": true
   },
   "outputs": [],
   "source": [
    "bk_color = 144\n",
    "image_width, image_height = samples['states'][0][0].shape\n",
    "bk_image = np.ones((image_width, image_height), dtype = int) * 144\n",
    "def phi_sum_row(img):\n",
    "    ps = np.zeros((image_height))\n",
    "    for r in range(image_height):\n",
    "        if np.max(img[r, :]) == 0:\n",
    "            feat = np.min(img[r, :])\n",
    "        else:\n",
    "            feat = np.max(img[r, :])\n",
    "        ps[r] = feat\n",
    "    return ps\n",
    "\n",
    "\n",
    "def phi_sum_col(img):\n",
    "    ps = np.zeros((image_width))\n",
    "    for c in range(image_width):\n",
    "        if np.max(img[:, c]) == 0:\n",
    "            feat = np.min(img[:, c])\n",
    "        else:\n",
    "            feat = np.max(img[:, c])\n",
    "        ps[c] = feat\n",
    "    return ps\n",
    "\n",
    "def phi_sum(img):\n",
    "    return np.hstack([phi_sum_row(img), phi_sum_col(img)])"
   ]
  },
  {
   "cell_type": "code",
   "execution_count": 12,
   "metadata": {
    "collapsed": false
   },
   "outputs": [],
   "source": [
    "\n",
    "\n",
    "num_samples = 0\n",
    "for i in range(len(samples['states'])):\n",
    "    num_samples += len(samples['states'][i])\n",
    "\n",
    "num_features = image_width + image_height  \n",
    "Phi = np.zeros((num_samples, num_features), dtype=np.float32)\n",
    "Phi_next = np.zeros((num_samples, num_features), dtype=np.float32)\n",
    "A = np.zeros(num_samples, dtype=np.int)\n",
    "R = np.zeros(num_samples, dtype=np.float32)\n",
    "index = 0\n",
    "for epi in range(len(samples['states'])):\n",
    "    for t in range(len(samples['states'][epi])):\n",
    "        s = samples['states'][epi][t]\n",
    "        Phi[index] = phi_sum(s)\n",
    "        A[index] = samples['actions'][epi][t]\n",
    "        R[index] = samples['rewards'][epi][t]\n",
    "        if R[index] == 0:#episode is not ending\n",
    "            Phi_next[index] = phi_sum(samples['states'][epi][t+1])\n",
    "        else:\n",
    "            Phi_next[index] = np.zeros(num_features, dtype=np.float32)\n",
    "    "
   ]
  },
  {
   "cell_type": "code",
   "execution_count": 21,
   "metadata": {
    "collapsed": false
   },
   "outputs": [
    {
     "name": "stdout",
     "output_type": "stream",
     "text": [
      "(2359, 160)\n",
      "(2359, 160)\n",
      "[0 1]\n",
      "[0 1]\n",
      "2\n"
     ]
    }
   ],
   "source": [
    "print(Phi_next.shape)\n",
    "print(Phi.shape)\n",
    "print(np.unique(A))\n",
    "A[A==2] = 1\n",
    "print(np.unique(A))\n",
    "num_actions = len(np.unique(A))\n",
    "print(num_actions)\n",
    "\n"
   ]
  },
  {
   "cell_type": "code",
   "execution_count": 27,
   "metadata": {
    "collapsed": false
   },
   "outputs": [
    {
     "name": "stdout",
     "output_type": "stream",
     "text": [
      "(2, 160, 160)\n",
      "(2, 160)\n"
     ]
    }
   ],
   "source": [
    "\n",
    "# https://drive.google.com/file/d/0B4yKRDF2fvC8S0hBeUlrX1lDa2c/view\n",
    "def ls_model():\n",
    "    assert(Phi.shape[0] ==  len(A))\n",
    "    assert(len(A) == len(R))\n",
    "    assert(Phi.shape == Phi_next.shape)\n",
    "    N = Phi.shape[0]\n",
    "    H = np.zeros((num_actions, num_features, num_features))\n",
    "    E = np.zeros((num_actions, num_features, num_features))\n",
    "    e = np.zeros((num_actions, num_features))\n",
    "    for a in range(num_actions):\n",
    "        E[a] = np.eye(num_features) * 0.01 \n",
    "    \n",
    "    for i in range(N):\n",
    "        ps = Phi[i]\n",
    "        a = A[i]\n",
    "        psnext = Phi_next[i]\n",
    "        H[a] += ps * ps.T\n",
    "        E[a] += psnext * ps.T\n",
    "        e[a] += ps * R[i]\n",
    "    F = np.zeros((num_actions, num_features, num_features))\n",
    "    f = np.zeros((num_actions, num_features))\n",
    "    for a in range(num_actions):\n",
    "        F[a] = E[a] * np.linalg.pinv(H[a])\n",
    "        f[a] = np.linalg.solve(E[a], e[a])\n",
    "    return F, f\n",
    "Fa, fa = ls_model()\n",
    "print(Fa.shape)\n",
    "print(fa.shape)"
   ]
  },
  {
   "cell_type": "code",
   "execution_count": 38,
   "metadata": {
    "collapsed": true
   },
   "outputs": [],
   "source": [
    "\n",
    "gamma = 0\n",
    "def lam_lstd(F, f, Phi):\n",
    "    w = np.random.randn(num_features)\n",
    "    A = np.eye(num_features, dtype=np.float32)\n",
    "    b = np.zeros(num_features, dtype=np.float32)\n",
    "    for ps in Phi:\n",
    "        Qmax = 0.0\n",
    "        abest = -1\n",
    "        for a in range(F.shape[0]):\n",
    "            print(f[a].dot(ps).shape)\n",
    "            print(w.shape)\n",
    "            Q = f[a].dot(ps) + gamma * w.dot(np.matmul(F[a], ps))\n",
    "            if Q > Qmax:\n",
    "                Qmax = Q\n",
    "                abest = a\n",
    "        phi_next = F[abest] * ps\n",
    "        r = f[a].dot(ps)\n",
    "        A += ps * (gamma*phi_next - ps)\n",
    "        b += ps * r\n",
    "    w = - np.linalg.solve(A, b)\n",
    "    return w"
   ]
  },
  {
   "cell_type": "code",
   "execution_count": 37,
   "metadata": {
    "collapsed": false
   },
   "outputs": [
    {
     "name": "stdout",
     "output_type": "stream",
     "text": [
      "()\n",
      "(2,)\n"
     ]
    },
    {
     "ename": "ValueError",
     "evalue": "shapes (2,) and (160,) not aligned: 2 (dim 0) != 160 (dim 0)",
     "output_type": "error",
     "traceback": [
      "\u001b[0;31m---------------------------------------------------------------------------\u001b[0m",
      "\u001b[0;31mValueError\u001b[0m                                Traceback (most recent call last)",
      "\u001b[0;32m<ipython-input-37-7245159e42ac>\u001b[0m in \u001b[0;36m<module>\u001b[0;34m()\u001b[0m\n\u001b[0;32m----> 1\u001b[0;31m \u001b[0mw_lam\u001b[0m \u001b[0;34m=\u001b[0m \u001b[0mlam_lstd\u001b[0m\u001b[0;34m(\u001b[0m\u001b[0mFa\u001b[0m\u001b[0;34m,\u001b[0m \u001b[0mfa\u001b[0m\u001b[0;34m,\u001b[0m \u001b[0mPhi\u001b[0m\u001b[0;34m)\u001b[0m\u001b[0;34m\u001b[0m\u001b[0m\n\u001b[0m",
      "\u001b[0;32m<ipython-input-36-32bd06ea8000>\u001b[0m in \u001b[0;36mlam_lstd\u001b[0;34m(F, f, Phi)\u001b[0m\n\u001b[1;32m     11\u001b[0m             \u001b[0mprint\u001b[0m\u001b[0;34m(\u001b[0m\u001b[0mf\u001b[0m\u001b[0;34m[\u001b[0m\u001b[0ma\u001b[0m\u001b[0;34m]\u001b[0m\u001b[0;34m.\u001b[0m\u001b[0mdot\u001b[0m\u001b[0;34m(\u001b[0m\u001b[0mps\u001b[0m\u001b[0;34m)\u001b[0m\u001b[0;34m.\u001b[0m\u001b[0mshape\u001b[0m\u001b[0;34m)\u001b[0m\u001b[0;34m\u001b[0m\u001b[0m\n\u001b[1;32m     12\u001b[0m             \u001b[0mprint\u001b[0m\u001b[0;34m(\u001b[0m\u001b[0mw\u001b[0m\u001b[0;34m.\u001b[0m\u001b[0mshape\u001b[0m\u001b[0;34m)\u001b[0m\u001b[0;34m\u001b[0m\u001b[0m\n\u001b[0;32m---> 13\u001b[0;31m             \u001b[0mQ\u001b[0m \u001b[0;34m=\u001b[0m \u001b[0mf\u001b[0m\u001b[0;34m[\u001b[0m\u001b[0ma\u001b[0m\u001b[0;34m]\u001b[0m\u001b[0;34m.\u001b[0m\u001b[0mdot\u001b[0m\u001b[0;34m(\u001b[0m\u001b[0mps\u001b[0m\u001b[0;34m)\u001b[0m \u001b[0;34m+\u001b[0m \u001b[0mgamma\u001b[0m \u001b[0;34m*\u001b[0m \u001b[0mw\u001b[0m\u001b[0;34m.\u001b[0m\u001b[0mdot\u001b[0m\u001b[0;34m(\u001b[0m\u001b[0mnp\u001b[0m\u001b[0;34m.\u001b[0m\u001b[0mmatmul\u001b[0m\u001b[0;34m(\u001b[0m\u001b[0mF\u001b[0m\u001b[0;34m[\u001b[0m\u001b[0ma\u001b[0m\u001b[0;34m]\u001b[0m\u001b[0;34m,\u001b[0m \u001b[0mps\u001b[0m\u001b[0;34m)\u001b[0m\u001b[0;34m)\u001b[0m\u001b[0;34m\u001b[0m\u001b[0m\n\u001b[0m\u001b[1;32m     14\u001b[0m             \u001b[0;32mif\u001b[0m \u001b[0mQ\u001b[0m \u001b[0;34m>\u001b[0m \u001b[0mQmax\u001b[0m\u001b[0;34m:\u001b[0m\u001b[0;34m\u001b[0m\u001b[0m\n\u001b[1;32m     15\u001b[0m                 \u001b[0mQmax\u001b[0m \u001b[0;34m=\u001b[0m \u001b[0mQ\u001b[0m\u001b[0;34m\u001b[0m\u001b[0m\n",
      "\u001b[0;31mValueError\u001b[0m: shapes (2,) and (160,) not aligned: 2 (dim 0) != 160 (dim 0)"
     ]
    }
   ],
   "source": [
    "w_lam = lam_lstd(Fa, fa, Phi)"
   ]
  },
  {
   "cell_type": "code",
   "execution_count": null,
   "metadata": {
    "collapsed": true
   },
   "outputs": [],
   "source": []
  }
 ],
 "metadata": {
  "kernelspec": {
   "display_name": "Python [py35]",
   "language": "python",
   "name": "Python [py35]"
  },
  "language_info": {
   "codemirror_mode": {
    "name": "ipython",
    "version": 3
   },
   "file_extension": ".py",
   "mimetype": "text/x-python",
   "name": "python",
   "nbconvert_exporter": "python",
   "pygments_lexer": "ipython3",
   "version": "3.5.2"
  }
 },
 "nbformat": 4,
 "nbformat_minor": 0
}
